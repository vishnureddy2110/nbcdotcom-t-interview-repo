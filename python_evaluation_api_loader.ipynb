{
 "cells": [
  {
   "cell_type": "code",
   "execution_count": 1,
   "id": "d035da7a",
   "metadata": {
    "collapsed": true
   },
   "outputs": [
    {
     "ename": "ModuleNotFoundError",
     "evalue": "No module named 'cx_Oracle'",
     "output_type": "error",
     "traceback": [
      "\u001b[0;31m---------------------------------------------------------------------------\u001b[0m",
      "\u001b[0;31mModuleNotFoundError\u001b[0m                       Traceback (most recent call last)",
      "Input \u001b[0;32mIn [1]\u001b[0m, in \u001b[0;36m<cell line: 3>\u001b[0;34m()\u001b[0m\n\u001b[1;32m      1\u001b[0m \u001b[38;5;28;01mimport\u001b[39;00m \u001b[38;5;21;01mrequests\u001b[39;00m\n\u001b[1;32m      2\u001b[0m \u001b[38;5;28;01mimport\u001b[39;00m \u001b[38;5;21;01mcsv\u001b[39;00m\n\u001b[0;32m----> 3\u001b[0m \u001b[38;5;28;01mimport\u001b[39;00m \u001b[38;5;21;01mcx_Oracle\u001b[39;00m\n\u001b[1;32m      5\u001b[0m \u001b[38;5;28;01mdef\u001b[39;00m \u001b[38;5;21mfetch_data_from_api\u001b[39m(api_url):\n\u001b[1;32m      6\u001b[0m     response \u001b[38;5;241m=\u001b[39m requests\u001b[38;5;241m.\u001b[39mget(api_url)\n",
      "\u001b[0;31mModuleNotFoundError\u001b[0m: No module named 'cx_Oracle'"
     ]
    }
   ],
   "source": [
    "import requests\n",
    "import csv\n",
    "import cx_Oracle\n",
    "\n",
    "# function to fetch data from a public API data source\n",
    "def fetch_data_from_api(api_url):\n",
    "    response = requests.get(api_url)\n",
    "    if response.status_code == 200:\n",
    "        return response.json()\n",
    "    else:\n",
    "        print(\"Failed to fetch data from the API.\")\n",
    "        return None\n",
    "\n",
    "# function to flatten json data into csv format\n",
    "def flatten_json_to_csv(data, csv_file):\n",
    "    if data:\n",
    "        with open(csv_file, 'w', newline='') as csvfile:\n",
    "            # create a csv dict object with field names from the json keys\n",
    "            writer = csv.DictWriter(csvfile, fieldnames=data[0].keys())\n",
    "            writer.writeheader()\n",
    "            writer.writerows(data)\n",
    "            print(\"JSON data flattened and saved to CSV successfully.\")\n",
    "    else:\n",
    "        print(\"No data to flatten.\")\n",
    "\n",
    "# function to load csv data into a relational database\n",
    "def load_csv_to_rdb(csv_file, rdb_connection_string, table_name):\n",
    "    try:\n",
    "        connection = cx_Oracle.connect(rdb_connection_string)\n",
    "        cursor = connection.cursor()\n",
    "        with open(csv_file, 'r') as csv_file:\n",
    "            next(csv_file)\n",
    "            csv_reader = csv.reader(csv_file)\n",
    "            cursor.executemany(f\"INSERT INTO {table_name} VALUES ({','.join([':{}'.format(i+1) for i in range(len(next(csv_reader)))])})\", csv_reader)\n",
    "        connection.commit()\n",
    "        print(\"CSV data loaded into table successfully.\")\n",
    "    except Exception as e:\n",
    "        print(f\"Error loading data into table: {e}\")\n",
    "    finally:\n",
    "        cursor.close()\n",
    "        connection.close()\n",
    "\n",
    "# main to execute the three functions sequentially\n",
    "def main():\n",
    "    api_url = \"https://softwium.com/api/books\"\n",
    "    csv_file = \"books.csv\"\n",
    "    rdb_connection_string = \"nbc/xx12@localhost:1521/nbc_eval\"\n",
    "    table_name = \"python_schema.books_table\"\n",
    "\n",
    "    data = fetch_data_from_api(api_url)\n",
    "    flatten_json_to_csv(data, csv_file)\n",
    "    load_csv_to_rdb(csv_file, rdb_connection_string, table_name)\n",
    "\n",
    "# execution\n",
    "if __name__ == \"__main__\":\n",
    "    main()\n"
   ]
  },
  {
   "cell_type": "code",
   "execution_count": null,
   "id": "2abaf93f",
   "metadata": {},
   "outputs": [],
   "source": []
  }
 ],
 "metadata": {
  "kernelspec": {
   "display_name": "Python 3 (ipykernel)",
   "language": "python",
   "name": "python3"
  },
  "language_info": {
   "codemirror_mode": {
    "name": "ipython",
    "version": 3
   },
   "file_extension": ".py",
   "mimetype": "text/x-python",
   "name": "python",
   "nbconvert_exporter": "python",
   "pygments_lexer": "ipython3",
   "version": "3.9.12"
  }
 },
 "nbformat": 4,
 "nbformat_minor": 5
}
